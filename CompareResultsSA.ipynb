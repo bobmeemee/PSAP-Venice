{
 "cells": [
  {
   "cell_type": "code",
   "outputs": [],
   "source": [
    "import pandas as pd\n",
    "from Problem import decimal_to_time\n",
    "import numpy as np\n",
    "import matplotlib.pyplot as plt\n",
    "import seaborn as sns"
   ],
   "metadata": {
    "collapsed": false,
    "ExecuteTime": {
     "end_time": "2024-01-07T02:21:19.168009700Z",
     "start_time": "2024-01-07T02:21:19.158713600Z"
    }
   },
   "id": "1b774f1140762b6b",
   "execution_count": 11
  },
  {
   "cell_type": "code",
   "outputs": [],
   "source": [
    "# load in ML data\n",
    "df_ml1 = pd.read_excel('results/SA/ML-Results/ML151-200x10-RETRY.xlsx')\n",
    "df_ml2 = pd.read_excel('results/SA/ML-Results/ML151-200x10-RETRY_ctd1.xlsx')\n",
    "df_ml = pd.concat([df_ml1, df_ml2])\n",
    "df_ml = df_ml[['instance', 'number_of_movements_reached', 'median_delay', 'average_delay','obj_val', 't0', 'alpha', 'predicted_delay', 'valid_solution']]\n",
    "df_ml = df_ml.rename(columns={'number_of_movements_reached': 'movements_reached-ML', 'median_delay': 'median_delay-ML', 'average_delay': 'average_delay-ML', 'obj_val': 'obj_val-ML', 't0': 't0-ML', 'alpha': 'alpha-ML', 'valid_solution': 'valid_solution-ML', 'predicted_delay': 'predicted_delay-ML'})\n",
    "\n",
    "# load in random data\n",
    "df_sa = pd.read_excel('results/SA/ML-Results/output_151-200ex10-Jeoffrey.xlsx')\n",
    "df_sa = df_sa[['instance', 'obj_val', 'alpha', 't0', 'median delay', 'average delay', 'number of movements', 'valid_solution']]\n",
    "df_sa = df_sa.rename(columns={'median delay': 'median_delay-SA', 'average delay': 'average_delay-SA', 'number of movements': 'movements_reached-SA', 'obj_val': 'obj_val-SA', 't0': 't0-SA', 'alpha': 'alpha-SA', 'valid_solution': 'valid_solution-SA'})\n",
    "# sort the dataframes on instance\n",
    "df_sa = df_sa.sort_values(by=['instance'])\n",
    "df_ml = df_ml.sort_values(by=['instance'])\n",
    "\n",
    "# to excel file for control\n",
    "df_sa.to_excel('results/SA/ML-Results/random151-200.xlsx')\n",
    "\n",
    "\n",
    "# load in the instance data\n",
    "df_instances = pd.read_excel('results/instanceData_200.xlsx')\n",
    "df_instances = df_instances[['instance', 'number_of_movements']] \n",
    "# only keep the instace 151-200\n",
    "df_instances = df_instances.sort_values(by=['instance'])\n",
    "df_instances = df_instances[150:200]\n",
    "\n",
    "# merge the instances with the SA&ML data\n",
    "df_ml = pd.merge(df_ml, df_instances, on='instance')\n",
    "df_sa = pd.merge(df_sa, df_instances, on='instance')\n",
    "\n",
    "# to excel file for control\n",
    "df_sa.to_excel('results/SA/ML-Results/random151-200.xlsx')\n",
    "df_ml.to_excel('results/SA/ML-Results/MLinstance151-200.xlsx')"
   ],
   "metadata": {
    "collapsed": false,
    "ExecuteTime": {
     "end_time": "2024-01-07T02:21:22.080849300Z",
     "start_time": "2024-01-07T02:21:21.068369400Z"
    }
   },
   "id": "671d4aed5a1499f8",
   "execution_count": 12
  },
  {
   "cell_type": "code",
   "outputs": [
    {
     "name": "stdout",
     "output_type": "stream",
     "text": [
      "valid solutions SA:  392\n",
      "valid solutions ML:  384\n",
      "average movements reached SA:  0.961178265876662\n",
      "average movements reached ML:  0.9611172016761437\n"
     ]
    }
   ],
   "source": [
    "# calculate the amount of valid solutions for SA and ML\n",
    "print(\"valid solutions SA: \", df_sa['valid_solution-SA'].sum())\n",
    "print(\"valid solutions ML: \", df_ml['valid_solution-ML'].sum())\n",
    "\n",
    "# calculate the average movement reached for SA and ML\n",
    "df_results = pd.DataFrame()\n",
    "df_results['avg_movements_reached-ML'] = df_ml['movements_reached-ML']/df_ml['number_of_movements']\n",
    "df_results['avg_movements_reached-SA'] = df_sa['movements_reached-SA']/df_sa['number_of_movements']\n",
    "average_SA = df_results['avg_movements_reached-SA'].sum() / len(df_results)\n",
    "average_ML = df_results['avg_movements_reached-ML'].sum() / len(df_results)\n",
    "print(\"average movements reached SA: \", average_SA)\n",
    "print(\"average movements reached ML: \", average_ML)"
   ],
   "metadata": {
    "collapsed": false,
    "ExecuteTime": {
     "end_time": "2024-01-07T02:21:23.898369700Z",
     "start_time": "2024-01-07T02:21:23.868194100Z"
    }
   },
   "id": "14f404f09b37a909",
   "execution_count": 13
  },
  {
   "cell_type": "code",
   "outputs": [
    {
     "name": "stdout",
     "output_type": "stream",
     "text": [
      "average delay SA:  0:51\n",
      "average delay ML:  0:48\n",
      "average of median delay SA:  0:42\n",
      "average median delay ML:  0:39\n",
      "average objval SA:  87.24916666666667\n",
      "average objval ML:  82.64221556886227\n"
     ]
    }
   ],
   "source": [
    "# calculate the average delay for SA and ML\n",
    "avg_delay_SA = df_sa['average_delay-SA'].sum() / len(df_sa)\n",
    "avg_delay_ML = df_ml['average_delay-ML'].sum() / len(df_ml)\n",
    "print(\"average delay SA: \", decimal_to_time(avg_delay_SA))\n",
    "print(\"average delay ML: \", decimal_to_time(avg_delay_ML))\n",
    "\n",
    "# calculate average median delay for SA and ML\n",
    "median_delay_SA = df_sa['median_delay-SA'].sum() / len(df_sa)\n",
    "median_delay_ML = df_ml['median_delay-ML'].sum() / len(df_ml)\n",
    "print(\"average of median delay SA: \", decimal_to_time(median_delay_SA))\n",
    "print(\"average median delay ML: \", decimal_to_time(median_delay_ML))\n",
    "\n",
    "# calculate average objval for SA and ML\n",
    "objval_SA = df_sa['obj_val-SA'].sum() / len(df_sa)\n",
    "objval_ML = df_ml['obj_val-ML'].sum() / len(df_ml)\n",
    "print(\"average objval SA: \", objval_SA) # i made a mistake in how the objval is saved: the ML saves the objval of the failed solution, while the SA saves the objval of the last valid solution\n",
    "print(\"average objval ML: \", objval_ML)\n",
    "\n"
   ],
   "metadata": {
    "collapsed": false,
    "ExecuteTime": {
     "end_time": "2024-01-07T02:21:32.347789900Z",
     "start_time": "2024-01-07T02:21:32.312563900Z"
    }
   },
   "id": "d7590d07220bfd1c",
   "execution_count": 14
  },
  {
   "cell_type": "code",
   "outputs": [
    {
     "name": "stdout",
     "output_type": "stream",
     "text": [
      "valid solutions SA:  197\n",
      "valid solutions ML:  384\n",
      "average delay SA:  0:50\n",
      "average delay ML:  0:46\n",
      "average of median delay SA:  0:41\n",
      "average median delay ML:  0:37\n",
      "average objval SA:  86.82106598984771\n",
      "average objval ML:  80.0412326388889\n"
     ]
    }
   ],
   "source": [
    "# now only look at the solved instances\n",
    "df_ml_solved = df_ml[df_ml['valid_solution-ML'] == 1]\n",
    "df_sa_solved = df_sa[df_sa['valid_solution-SA'] == 1]\n",
    "\n",
    "# calculate the amount of valid solutions for SA and ML\n",
    "print(\"valid solutions SA: \", df_sa_solved['valid_solution-SA'].sum())\n",
    "print(\"valid solutions ML: \", df_ml_solved['valid_solution-ML'].sum())\n",
    "\n",
    "# calculate the average wait time for SA and ML\n",
    "avg_delay_SA = df_sa_solved['average_delay-SA'].sum() / len(df_sa_solved)\n",
    "avg_delay_ML = df_ml_solved['average_delay-ML'].sum() / len(df_ml_solved)\n",
    "print(\"average delay SA: \", decimal_to_time(avg_delay_SA))\n",
    "print(\"average delay ML: \", decimal_to_time(avg_delay_ML))\n",
    "\n",
    "# calculate average median delay for SA and ML\n",
    "median_delay_SA = df_sa_solved['median_delay-SA'].sum() / len(df_sa_solved)\n",
    "median_delay_ML = df_ml_solved['median_delay-ML'].sum() / len(df_ml_solved)\n",
    "print(\"average of median delay SA: \", decimal_to_time(median_delay_SA))\n",
    "print(\"average median delay ML: \", decimal_to_time(median_delay_ML))\n",
    "\n",
    "# calculate average objval for SA and ML\n",
    "objval_SA = df_sa_solved['obj_val-SA'].sum() / len(df_sa_solved)\n",
    "objval_ML = df_ml_solved['obj_val-ML'].sum() / len(df_ml_solved)\n",
    "print(\"average objval SA: \", objval_SA) \n",
    "print(\"average objval ML: \", objval_ML)\n",
    "\n"
   ],
   "metadata": {
    "collapsed": false,
    "ExecuteTime": {
     "end_time": "2024-01-07T01:32:02.839894500Z",
     "start_time": "2024-01-07T01:32:02.817520600Z"
    }
   },
   "id": "a545153b87479e4f",
   "execution_count": 10
  },
  {
   "cell_type": "code",
   "outputs": [
    {
     "name": "stdout",
     "output_type": "stream",
     "text": [
      "0      1\n",
      "10     1\n",
      "20     1\n",
      "30     1\n",
      "40     1\n",
      "      ..\n",
      "950    1\n",
      "960    0\n",
      "970    1\n",
      "980    1\n",
      "990    1\n",
      "Name: valid_solution-SA, Length: 100, dtype: int64\n",
      "0     1\n",
      "1     1\n",
      "2     1\n",
      "3     1\n",
      "4     0\n",
      "     ..\n",
      "95    1\n",
      "96    1\n",
      "97    1\n",
      "98    0\n",
      "99    1\n",
      "Name: valid_solution-ML, Length: 100, dtype: int64\n",
      "3.222789115646255\n"
     ]
    },
    {
     "ename": "KeyError",
     "evalue": "'movements_reached-diff-solved'",
     "output_type": "error",
     "traceback": [
      "\u001B[1;31m---------------------------------------------------------------------------\u001B[0m",
      "\u001B[1;31mKeyError\u001B[0m                                  Traceback (most recent call last)",
      "File \u001B[1;32m~\\anaconda3\\envs\\torch\\lib\\site-packages\\pandas\\core\\indexes\\base.py:3791\u001B[0m, in \u001B[0;36mIndex.get_loc\u001B[1;34m(self, key)\u001B[0m\n\u001B[0;32m   3790\u001B[0m \u001B[38;5;28;01mtry\u001B[39;00m:\n\u001B[1;32m-> 3791\u001B[0m     \u001B[38;5;28;01mreturn\u001B[39;00m \u001B[38;5;28;43mself\u001B[39;49m\u001B[38;5;241;43m.\u001B[39;49m\u001B[43m_engine\u001B[49m\u001B[38;5;241;43m.\u001B[39;49m\u001B[43mget_loc\u001B[49m\u001B[43m(\u001B[49m\u001B[43mcasted_key\u001B[49m\u001B[43m)\u001B[49m\n\u001B[0;32m   3792\u001B[0m \u001B[38;5;28;01mexcept\u001B[39;00m \u001B[38;5;167;01mKeyError\u001B[39;00m \u001B[38;5;28;01mas\u001B[39;00m err:\n",
      "File \u001B[1;32mindex.pyx:152\u001B[0m, in \u001B[0;36mpandas._libs.index.IndexEngine.get_loc\u001B[1;34m()\u001B[0m\n",
      "File \u001B[1;32mindex.pyx:181\u001B[0m, in \u001B[0;36mpandas._libs.index.IndexEngine.get_loc\u001B[1;34m()\u001B[0m\n",
      "File \u001B[1;32mpandas\\_libs\\hashtable_class_helper.pxi:7080\u001B[0m, in \u001B[0;36mpandas._libs.hashtable.PyObjectHashTable.get_item\u001B[1;34m()\u001B[0m\n",
      "File \u001B[1;32mpandas\\_libs\\hashtable_class_helper.pxi:7088\u001B[0m, in \u001B[0;36mpandas._libs.hashtable.PyObjectHashTable.get_item\u001B[1;34m()\u001B[0m\n",
      "\u001B[1;31mKeyError\u001B[0m: 'movements_reached-diff-solved'",
      "\nThe above exception was the direct cause of the following exception:\n",
      "\u001B[1;31mKeyError\u001B[0m                                  Traceback (most recent call last)",
      "Cell \u001B[1;32mIn[59], line 22\u001B[0m\n\u001B[0;32m     16\u001B[0m \u001B[38;5;66;03m# calculate the average of all differences for solved instances\u001B[39;00m\n\u001B[0;32m     17\u001B[0m \u001B[38;5;28mprint\u001B[39m(objvalsum\u001B[38;5;241m/\u001B[39mlenobjval)\n\u001B[1;32m---> 22\u001B[0m \u001B[38;5;28mprint\u001B[39m(\u001B[43mdf\u001B[49m\u001B[43m[\u001B[49m\u001B[38;5;124;43m'\u001B[39;49m\u001B[38;5;124;43mmovements_reached-diff-solved\u001B[39;49m\u001B[38;5;124;43m'\u001B[39;49m\u001B[43m]\u001B[49m\u001B[38;5;241m.\u001B[39mmean())\n\u001B[0;32m     24\u001B[0m \u001B[38;5;66;03m# calculate the average of all differences\u001B[39;00m\n\u001B[0;32m     25\u001B[0m \u001B[38;5;28mprint\u001B[39m(df[\u001B[38;5;124m'\u001B[39m\u001B[38;5;124mmovements_reached-diff\u001B[39m\u001B[38;5;124m'\u001B[39m]\u001B[38;5;241m.\u001B[39mmean())\n",
      "File \u001B[1;32m~\\anaconda3\\envs\\torch\\lib\\site-packages\\pandas\\core\\frame.py:3893\u001B[0m, in \u001B[0;36mDataFrame.__getitem__\u001B[1;34m(self, key)\u001B[0m\n\u001B[0;32m   3891\u001B[0m \u001B[38;5;28;01mif\u001B[39;00m \u001B[38;5;28mself\u001B[39m\u001B[38;5;241m.\u001B[39mcolumns\u001B[38;5;241m.\u001B[39mnlevels \u001B[38;5;241m>\u001B[39m \u001B[38;5;241m1\u001B[39m:\n\u001B[0;32m   3892\u001B[0m     \u001B[38;5;28;01mreturn\u001B[39;00m \u001B[38;5;28mself\u001B[39m\u001B[38;5;241m.\u001B[39m_getitem_multilevel(key)\n\u001B[1;32m-> 3893\u001B[0m indexer \u001B[38;5;241m=\u001B[39m \u001B[38;5;28;43mself\u001B[39;49m\u001B[38;5;241;43m.\u001B[39;49m\u001B[43mcolumns\u001B[49m\u001B[38;5;241;43m.\u001B[39;49m\u001B[43mget_loc\u001B[49m\u001B[43m(\u001B[49m\u001B[43mkey\u001B[49m\u001B[43m)\u001B[49m\n\u001B[0;32m   3894\u001B[0m \u001B[38;5;28;01mif\u001B[39;00m is_integer(indexer):\n\u001B[0;32m   3895\u001B[0m     indexer \u001B[38;5;241m=\u001B[39m [indexer]\n",
      "File \u001B[1;32m~\\anaconda3\\envs\\torch\\lib\\site-packages\\pandas\\core\\indexes\\base.py:3798\u001B[0m, in \u001B[0;36mIndex.get_loc\u001B[1;34m(self, key)\u001B[0m\n\u001B[0;32m   3793\u001B[0m     \u001B[38;5;28;01mif\u001B[39;00m \u001B[38;5;28misinstance\u001B[39m(casted_key, \u001B[38;5;28mslice\u001B[39m) \u001B[38;5;129;01mor\u001B[39;00m (\n\u001B[0;32m   3794\u001B[0m         \u001B[38;5;28misinstance\u001B[39m(casted_key, abc\u001B[38;5;241m.\u001B[39mIterable)\n\u001B[0;32m   3795\u001B[0m         \u001B[38;5;129;01mand\u001B[39;00m \u001B[38;5;28many\u001B[39m(\u001B[38;5;28misinstance\u001B[39m(x, \u001B[38;5;28mslice\u001B[39m) \u001B[38;5;28;01mfor\u001B[39;00m x \u001B[38;5;129;01min\u001B[39;00m casted_key)\n\u001B[0;32m   3796\u001B[0m     ):\n\u001B[0;32m   3797\u001B[0m         \u001B[38;5;28;01mraise\u001B[39;00m InvalidIndexError(key)\n\u001B[1;32m-> 3798\u001B[0m     \u001B[38;5;28;01mraise\u001B[39;00m \u001B[38;5;167;01mKeyError\u001B[39;00m(key) \u001B[38;5;28;01mfrom\u001B[39;00m \u001B[38;5;21;01merr\u001B[39;00m\n\u001B[0;32m   3799\u001B[0m \u001B[38;5;28;01mexcept\u001B[39;00m \u001B[38;5;167;01mTypeError\u001B[39;00m:\n\u001B[0;32m   3800\u001B[0m     \u001B[38;5;66;03m# If we have a listlike key, _check_indexing_error will raise\u001B[39;00m\n\u001B[0;32m   3801\u001B[0m     \u001B[38;5;66;03m#  InvalidIndexError. Otherwise we fall through and re-raise\u001B[39;00m\n\u001B[0;32m   3802\u001B[0m     \u001B[38;5;66;03m#  the TypeError.\u001B[39;00m\n\u001B[0;32m   3803\u001B[0m     \u001B[38;5;28mself\u001B[39m\u001B[38;5;241m.\u001B[39m_check_indexing_error(key)\n",
      "\u001B[1;31mKeyError\u001B[0m: 'movements_reached-diff-solved'"
     ]
    }
   ],
   "source": [
    "# calculate the difference between the ML and SA results\n",
    "df['movements_reached-diff'] = df['movements_reached-SA'] - df_ml['movements_reached-ML']\n",
    "\n",
    "# calculate the difference between the ML and SA results for the solved instances\n",
    "objvalsum = 0\n",
    "lenobjval = 0\n",
    "print(df['valid_solution-SA'])\n",
    "print(df_ml['valid_solution-ML'])\n",
    "for i in range(len(df)):\n",
    "\n",
    "    if df['valid_solution-SA'][i*10] == 1 and df_ml['valid_solution-ML'][i] == 1:\n",
    "        # add the objval to the sum on the ith row\n",
    "        objvalsum += df['obj_val-SA'][i*10] - df_ml['obj_val-ML'][i]\n",
    "        lenobjval += 1\n",
    "\n",
    "# calculate the average of all differences for solved instances\n",
    "print(objvalsum/lenobjval)\n",
    "\n",
    "\n",
    "        \n",
    "\n",
    "print(df['movements_reached-diff-solved'].mean())\n",
    "\n",
    "# calculate the average of all differences\n",
    "print(df['movements_reached-diff'].mean())\n",
    "\n"
   ],
   "metadata": {
    "collapsed": false,
    "ExecuteTime": {
     "end_time": "2024-01-03T15:47:25.721353800Z",
     "start_time": "2024-01-03T15:47:25.644083200Z"
    }
   },
   "id": "6c1e7da0dd155d6b",
   "execution_count": 59
  }
 ],
 "metadata": {
  "kernelspec": {
   "display_name": "Python 3",
   "language": "python",
   "name": "python3"
  },
  "language_info": {
   "codemirror_mode": {
    "name": "ipython",
    "version": 2
   },
   "file_extension": ".py",
   "mimetype": "text/x-python",
   "name": "python",
   "nbconvert_exporter": "python",
   "pygments_lexer": "ipython2",
   "version": "2.7.6"
  }
 },
 "nbformat": 4,
 "nbformat_minor": 5
}
