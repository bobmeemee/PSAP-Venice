{
 "cells": [
  {
   "cell_type": "code",
   "execution_count": 86,
   "metadata": {
    "collapsed": true,
    "ExecuteTime": {
     "end_time": "2024-01-02T20:45:35.025704800Z",
     "start_time": "2024-01-02T20:45:35.018724200Z"
    }
   },
   "outputs": [],
   "source": [
    "import pandas as pd\n",
    "import numpy as np\n",
    "from sklearn.model_selection import train_test_split\n",
    "from sklearn.preprocessing import StandardScaler\n",
    "\n",
    "import torch\n",
    "from torch import nn\n",
    "from torch.nn import functional as F\n",
    "from torch.utils.data import Dataset, DataLoader\n",
    "from torch import optim"
   ]
  },
  {
   "cell_type": "code",
   "execution_count": 87,
   "outputs": [
    {
     "name": "stdout",
     "output_type": "stream",
     "text": [
      "Index(['instance', 'movements reached', 'median delay', 'average delay',\n",
      "       'obj_val', 't0', 'alpha', 'valid_solution'],\n",
      "      dtype='object')\n",
      "Index(['instance', 'number_of_movements', 'number_of_headways',\n",
      "       'number_of_vessels', 'average_headway', 'std_dev_headway', 'spread',\n",
      "       'average_time_between_movements', 'average_travel_time'],\n",
      "      dtype='object')\n",
      "0      1.469833\n",
      "1      1.424000\n",
      "2      1.140667\n",
      "3      1.278167\n",
      "4      1.007333\n",
      "         ...   \n",
      "995    0.971667\n",
      "996    0.938333\n",
      "997    1.758333\n",
      "998    1.005000\n",
      "999    0.701667\n",
      "Name: objective_function, Length: 1000, dtype: float64 0      1.045833\n",
      "1      1.000000\n",
      "2      0.716667\n",
      "3      0.854167\n",
      "4      0.583333\n",
      "         ...   \n",
      "995    0.346667\n",
      "996    0.313333\n",
      "997    1.133333\n",
      "998    0.380000\n",
      "999    0.076667\n",
      "Name: average delay, Length: 1000, dtype: float64\n"
     ]
    }
   ],
   "source": [
    "df = pd.read_excel('results/SA/output_100e.xlsx')\n",
    "df = df.drop(columns=['neighborhood_size', 'neighbor_deviation_scale', 'vessel_time_window', 'affected_movements', 'time_interval','epochs'])\n",
    "# rename number of movements to movements reached\n",
    "df = df.rename(columns={'number of movements': 'movements reached'})\n",
    "col_names = df.columns\n",
    "print(col_names)\n",
    "\n",
    "df_instances = pd.read_excel('results/instanceData_200.xlsx')\n",
    "col_names_instances = df_instances.columns\n",
    "print(col_names_instances)\n",
    "# merge the two dataframes\n",
    "df = pd.merge(df, df_instances, on='instance')\n",
    "\n",
    "# recalculate the objective function\n",
    "movements_factor = 0.001\n",
    "headway_factor = 0.001\n",
    "df['objective_function'] = df['average delay'] \\\n",
    "                           + df['movements reached'] * movements_factor + df['number_of_headways'] * headway_factor\n",
    "print(df['objective_function'], df['average delay'])"
   ],
   "metadata": {
    "collapsed": false,
    "ExecuteTime": {
     "end_time": "2024-01-02T20:45:35.277748500Z",
     "start_time": "2024-01-02T20:45:35.033683100Z"
    }
   }
  },
  {
   "cell_type": "code",
   "execution_count": 88,
   "outputs": [],
   "source": [
    "feature_cols= ['t0', 'alpha',\n",
    "               'number_of_movements', 'number_of_vessels', 'average_headway', 'std_dev_headway', 'spread',\n",
    "                'average_time_between_movements', 'average_travel_time']\n",
    "\n",
    "X = df[feature_cols].values\n",
    "y = df['objective_function'].values"
   ],
   "metadata": {
    "collapsed": false,
    "ExecuteTime": {
     "end_time": "2024-01-02T20:45:35.309334400Z",
     "start_time": "2024-01-02T20:45:35.280363100Z"
    }
   }
  },
  {
   "cell_type": "code",
   "outputs": [],
   "source": [
    "# import warnings\n",
    "# warnings.filterwarnings(\"ignore\")\n",
    "# \n",
    "# # Convert data to torch tensors\n",
    "# class Data(Dataset):\n",
    "#     def __init__(self, X, y):\n",
    "#         self.X = X.astype(np.float32)\n",
    "#         self.y = y.astype(np.float32)\n",
    "#         # or directly from pandas to torch\n",
    "#         X = torch.from_numpy(X)\n",
    "#         y = torch.from_numpy(y)\n",
    "#         self.len = self.X.shape[0]\n",
    "#        \n",
    "#     def __getitem__(self, index):\n",
    "#         return self.X[index], self.y[index]\n",
    "#    \n",
    "#     def __len__(self):\n",
    "#         return self.len\n",
    "# \n",
    "# # Define batch size\n",
    "# batch_size = 32\n",
    "# \n",
    "# # Instantiate training and test data\n",
    "# train_data = Data(X_train_scaled, y_train_scaled)\n",
    "# train_dataloader = DataLoader(dataset=train_data, batch_size=batch_size, shuffle=True)\n",
    "# \n",
    "# test_data = Data(X_test_scaled, y_test_scaled)\n",
    "# test_dataloader = DataLoader(dataset=test_data, batch_size=batch_size, shuffle=True)\n",
    "# \n",
    "# # Check it's working\n",
    "# for batch, (X, y) in enumerate(train_dataloader):\n",
    "#     print(f\"Batch: {batch+1}\")\n",
    "#     print(f\"X shape: {X.shape}\")\n",
    "#     print(f\"y shape: {y.shape}\")\n",
    "#     break\n"
   ],
   "metadata": {
    "collapsed": false,
    "ExecuteTime": {
     "end_time": "2024-01-02T20:45:35.311331100Z",
     "start_time": "2024-01-02T20:45:35.292337300Z"
    }
   },
   "execution_count": 89
  },
  {
   "cell_type": "code",
   "execution_count": 90,
   "outputs": [
    {
     "name": "stdout",
     "output_type": "stream",
     "text": [
      "Net(\n",
      "  (fc1): Linear(in_features=9, out_features=64, bias=True)\n",
      "  (fc2): Linear(in_features=64, out_features=64, bias=True)\n",
      "  (fc3): Linear(in_features=64, out_features=1, bias=True)\n",
      ")\n"
     ]
    }
   ],
   "source": [
    "# define the network\n",
    "class Net(nn.Module):\n",
    "    def __init__(self):\n",
    "        super(Net, self).__init__()\n",
    "        self.fc1 = nn.Linear(9, 64)\n",
    "        self.fc2 = nn.Linear(64, 64)\n",
    "        self.fc3 = nn.Linear(64, 1)\n",
    "\n",
    "    def forward(self, x):\n",
    "        x = F.relu(self.fc1(x))\n",
    "        x = F.relu(self.fc2(x))\n",
    "        return self.fc3(x)\n",
    "    \n",
    "model = Net()\n",
    "# to cuda\n",
    "device = torch.device(\"cuda:0\" if torch.cuda.is_available() else \"cpu\")\n",
    "model.to(device)\n",
    "print(model)"
   ],
   "metadata": {
    "collapsed": false,
    "ExecuteTime": {
     "end_time": "2024-01-02T20:45:35.360350800Z",
     "start_time": "2024-01-02T20:45:35.310331100Z"
    }
   }
  },
  {
   "cell_type": "code",
   "outputs": [
    {
     "data": {
      "text/plain": "<All keys matched successfully>"
     },
     "execution_count": 91,
     "metadata": {},
     "output_type": "execute_result"
    }
   ],
   "source": [
    "import tqdm\n",
    "\n",
    "# loss function and optimizer\n",
    "loss_fn = nn.MSELoss()  # mean square error\n",
    "optimizer = optim.Adam(model.parameters(), lr=0.0001)\n",
    "\n",
    "\n",
    "# train-test split of the dataset\n",
    "X_train_raw, X_test_raw, y_train, y_test = train_test_split(X, y, train_size=0.7, shuffle=True)\n",
    "\n",
    "scaler = StandardScaler()\n",
    "X_train_scaled = scaler.fit_transform(X_train_raw)\n",
    "X_test_scaled = scaler.transform(X_test_raw)\n",
    "\n",
    "\n",
    "X_train = torch.tensor(X_train_scaled, dtype=torch.float32)\n",
    "y_train = torch.tensor(y_train, dtype=torch.float32).reshape(-1, 1)\n",
    "X_test = torch.tensor(X_test_scaled, dtype=torch.float32)\n",
    "y_test = torch.tensor(y_test, dtype=torch.float32).reshape(-1, 1)\n",
    " \n",
    "# training parameters\n",
    "n_epochs = 300   # number of epochs to run\n",
    "batch_size = 40  # size of each batch\n",
    "batch_start = torch.arange(0, len(X_train), batch_size)\n",
    " \n",
    "# Hold the best model\n",
    "best_mse = np.inf   # init to infinity\n",
    "best_weights = None\n",
    "history = []\n",
    " \n",
    "# training loop\n",
    "for epoch in range(n_epochs):\n",
    "    model.train()\n",
    "    with tqdm.tqdm(batch_start, unit=\"batch\", mininterval=0, disable=True) as bar:\n",
    "        bar.set_description(f\"Epoch {epoch}\")\n",
    "        for start in bar:\n",
    "            # take a batch\n",
    "            X_batch = X_train[start:start+batch_size]\n",
    "            y_batch = y_train[start:start+batch_size]\n",
    "            # forward pass\n",
    "            y_pred = model(X_batch)\n",
    "            loss = loss_fn(y_pred, y_batch)\n",
    "            # backward pass\n",
    "            optimizer.zero_grad()\n",
    "            loss.backward()\n",
    "            # update weights\n",
    "            optimizer.step()\n",
    "            # print progress\n",
    "            bar.set_postfix(mse=float(loss))\n",
    "    # evaluate accuracy at end of each epoch\n",
    "    model.eval()\n",
    "    y_pred = model(X_test)\n",
    "    mse = loss_fn(y_pred, y_test)\n",
    "    mse = float(mse)\n",
    "    history.append(mse)\n",
    "    if mse < best_mse:\n",
    "        best_mse = mse\n",
    "        best_weights = model.state_dict().copy()\n",
    " \n",
    "# restore model and return best accuracy\n",
    "model.load_state_dict(best_weights)"
   ],
   "metadata": {
    "collapsed": false,
    "ExecuteTime": {
     "end_time": "2024-01-02T20:45:45.339325300Z",
     "start_time": "2024-01-02T20:45:35.336414800Z"
    }
   },
   "execution_count": 91
  },
  {
   "cell_type": "code",
   "outputs": [
    {
     "name": "stdout",
     "output_type": "stream",
     "text": [
      "MSE: 0.07\n",
      "RMSE: 0.27\n"
     ]
    },
    {
     "data": {
      "text/plain": "<Figure size 640x480 with 1 Axes>",
      "image/png": "[encoded data removed]"
     },
     "metadata": {},
     "output_type": "display_data"
    }
   ],
   "source": [
    "# plot the loss\n",
    "import matplotlib.pyplot as plt\n",
    "\n",
    "model.load_state_dict(best_weights)\n",
    "print(\"MSE: %.2f\" % best_mse)\n",
    "print(\"RMSE: %.2f\" % np.sqrt(best_mse))\n",
    "plt.plot(history)\n",
    "plt.show()"
   ],
   "metadata": {
    "collapsed": false,
    "ExecuteTime": {
     "end_time": "2024-01-02T20:45:45.605964700Z",
     "start_time": "2024-01-02T20:45:45.340322100Z"
    }
   },
   "execution_count": 92
  },
  {
   "cell_type": "code",
   "outputs": [
    {
     "name": "stdout",
     "output_type": "stream",
     "text": [
      "[97.          0.68838562 21.         19.          0.814836    0.53866916\n",
      " 23.16666667  1.1031746   2.07936508] -> [1.242668] (expected [1.3151429])\n",
      "[426.           0.75557212  17.          16.           0.86111111\n",
      "   0.5816407   19.83333333   1.16666667   2.10784314] -> [1.2433646] (expected [0.8802157])\n",
      "[477.           0.79286311  20.          18.           0.83510168\n",
      "   0.51727151  38.08333333   1.90416667   1.955     ] -> [1.3114173] (expected [1.0261667])\n",
      "[129.           0.83899113  21.          19.           0.80725309\n",
      "   0.54296034  18.33333333   0.87301587   2.23015873] -> [1.3695228] (expected [1.1879841])\n",
      "[244.           0.69969322  24.          23.           0.76478261\n",
      "   0.50578664  21.5          0.89583333   2.05902778] -> [1.5018103] (expected [1.6510834])\n"
     ]
    }
   ],
   "source": [
    "model.eval()\n",
    "with torch.no_grad():\n",
    "    # Test out inference with 5 samples from the original test set\n",
    "    for i in range(5):\n",
    "        X_sample = X_test_raw[i: i+1]\n",
    "        X_sample = scaler.transform(X_sample)\n",
    "        X_sample = torch.tensor(X_sample, dtype=torch.float32)\n",
    "        y_pred = model(X_sample)\n",
    "        print(f\"{X_test_raw[i]} -> {y_pred[0].numpy()} (expected {y_test[i].numpy()})\")"
   ],
   "metadata": {
    "collapsed": false,
    "ExecuteTime": {
     "end_time": "2024-01-02T20:45:45.687361300Z",
     "start_time": "2024-01-02T20:45:45.603970100Z"
    }
   },
   "execution_count": 93
  },
  {
   "cell_type": "code",
   "outputs": [
    {
     "data": {
      "text/plain": "<Figure size 640x480 with 1 Axes>",
      "image/png": "[encoded data removed]"
     },
     "metadata": {},
     "output_type": "display_data"
    }
   ],
   "source": [
    "# plot the predictions as a scatter plot\n",
    "y_pred = model(X_test)\n",
    "y_pred = y_pred.detach().numpy()\n",
    "plt.scatter(y_test, y_pred)\n",
    "plt.xlabel(\"True Values\")\n",
    "plt.ylabel(\"Predictions\")\n",
    "# plot the line of best fit\n",
    "z = np.polyfit(y_test[0], y_pred[0], 1)\n",
    "p = np.poly1d(z)\n",
    "plt.plot(y_test,p(y_test),\"r--\")\n",
    "# plot the line y=x\n",
    "plt.plot(y_test, y_test, 'g--')\n",
    "plt.show()\n",
    "\n"
   ],
   "metadata": {
    "collapsed": false,
    "ExecuteTime": {
     "end_time": "2024-01-02T20:45:45.958068900Z",
     "start_time": "2024-01-02T20:45:45.622397500Z"
    }
   },
   "execution_count": 94
  },
  {
   "cell_type": "code",
   "outputs": [
    {
     "name": "stdout",
     "output_type": "stream",
     "text": [
      "Feature: 0, Score: 0.16279\n",
      "Feature: 1, Score: -0.04942\n",
      "Feature: 2, Score: 0.14793\n",
      "Feature: 3, Score: 0.05046\n",
      "Feature: 4, Score: 0.26305\n",
      "Feature: 5, Score: -0.04709\n",
      "Feature: 6, Score: 0.07518\n",
      "Feature: 7, Score: 0.17553\n",
      "Feature: 8, Score: 0.35536\n"
     ]
    }
   ],
   "source": [
    "# get the importance of each feature\n",
    "importance = model.fc1.weight.data.numpy()\n",
    "# summarize feature importance\n",
    "for i,v in enumerate(importance[0]):\n",
    "    print('Feature: %0d, Score: %.5f' % (i,v))"
   ],
   "metadata": {
    "collapsed": false,
    "ExecuteTime": {
     "end_time": "2024-01-02T20:45:46.034276700Z",
     "start_time": "2024-01-02T20:45:45.960063400Z"
    }
   },
   "execution_count": 95
  },
  {
   "cell_type": "code",
   "outputs": [],
   "source": [
    "# save the model\n",
    "torch.save(model.state_dict(), 'results/SA/models/NN_model_100e.pth')"
   ],
   "metadata": {
    "collapsed": false,
    "ExecuteTime": {
     "end_time": "2024-01-02T20:49:20.386105900Z",
     "start_time": "2024-01-02T20:49:20.355867800Z"
    }
   },
   "execution_count": 96
  }
 ],
 "metadata": {
  "kernelspec": {
   "display_name": "Python 3",
   "language": "python",
   "name": "python3"
  },
  "language_info": {
   "codemirror_mode": {
    "name": "ipython",
    "version": 2
   },
   "file_extension": ".py",
   "mimetype": "text/x-python",
   "name": "python",
   "nbconvert_exporter": "python",
   "pygments_lexer": "ipython2",
   "version": "2.7.6"
  }
 },
 "nbformat": 4,
 "nbformat_minor": 0
}
