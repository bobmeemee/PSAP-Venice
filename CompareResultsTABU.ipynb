{
 "cells": [
  {
   "cell_type": "code",
   "execution_count": 45,
   "id": "initial_id",
   "metadata": {
    "collapsed": true,
    "ExecuteTime": {
     "end_time": "2024-01-07T04:13:53.590495900Z",
     "start_time": "2024-01-07T04:13:53.576205100Z"
    }
   },
   "outputs": [],
   "source": [
    "import pandas as pd\n",
    "from Problem import decimal_to_time\n",
    "import numpy as np\n",
    "import matplotlib.pyplot as plt\n",
    "import seaborn as sns"
   ]
  },
  {
   "cell_type": "code",
   "outputs": [
    {
     "name": "stdout",
     "output_type": "stream",
     "text": [
      "Index(['instance', 'number of movements', 'median delay', 'average delay',\n",
      "       'obj_val', 'tabu_list_size', 'number_of_tweaks', 'affected_movements',\n",
      "       'epochs', 'time_interval', 'vessel_time_window', 'solution_found',\n",
      "       'predicted_delay'],\n",
      "      dtype='object')\n",
      "3000\n",
      "1500\n",
      "500\n"
     ]
    }
   ],
   "source": [
    "df_ml = pd.read_excel('results/TABU/ML-Results/ML151-200x10.xlsx')\n",
    "print(df_ml.columns)\n",
    "df_ml = df_ml.rename(columns={'number of movements': 'movements_reached-ML', 'median delay': 'median_delay-ML', 'average delay': 'average_delay-ML', 'obj_val': 'obj_val-ML', 'solution_found': 'valid_solution-ML', 'predicted_delay': 'predicted_delay-ML','tabu_list_size': 'tabu_list_size-ML', 'number_of_tweaks': 'number_of_tweaks-ML', 'affected_movements': 'affected_movements-ML',})\n",
    "\n",
    "# add 100 to the instance number\n",
    "df_ml['instance'] = df_ml['instance'] + 100\n",
    "df_tabu = pd.read_excel('results/TABU/output_1000e_200_ctd1.xlsx')\n",
    "\n",
    "df_tabu = df_tabu.rename(columns={'number of movements': 'movements_reached-TABU', 'median delay': 'median_delay-TABU', 'average delay': 'average_delay-TABU', 'obj_val': 'obj_val-TABU', 'solution_found': 'valid_solution-TABU', 'predicted_delay': 'predicted_delay-TABU', 'tabu_list_size': 'tabu_list_size-TABU', 'number_of_tweaks': 'number_of_tweaks-TABU', 'affected_movements': 'affected_movements-TABU',})\n",
    "# only keep 151-200\n",
    "print(len(df_tabu))\n",
    "\n",
    "df_tabu = df_tabu[1500:3000]\n",
    "print(len(df_tabu))\n",
    "\n",
    "# drop the rows that are not needed\n",
    "# keep the ones that are divisible by 3\n",
    "df_tabu = df_tabu[df_tabu.index % 3 == 0]\n",
    "\n",
    "\n",
    "\n",
    "# load in the instance data\n",
    "df_instances = pd.read_excel('results/instanceData_200.xlsx')\n",
    "df_instances = df_instances[['instance', 'number_of_movements']] \n",
    "# only keep the instace 151-200\n",
    "df_instances = df_instances.sort_values(by=['instance'])\n",
    "df_instances = df_instances[150:200]\n",
    "\n",
    "# merge the instances with the SA&ML data\n",
    "df_ml = pd.merge(df_ml, df_instances, on='instance')\n",
    "df_tabu = pd.merge(df_tabu, df_instances, on='instance')\n",
    "print(len(df_tabu))\n",
    "\n",
    "# to excel for checking\n",
    "df_ml.to_excel('results/TABU/ML-Results/ML151-200x10-check.xlsx')\n",
    "df_tabu.to_excel('results/TABU/RD151-200x10-check.xlsx')"
   ],
   "metadata": {
    "collapsed": false,
    "ExecuteTime": {
     "end_time": "2024-01-07T05:02:50.437278600Z",
     "start_time": "2024-01-07T05:02:49.631071800Z"
    }
   },
   "id": "803a2c8ce9dedf17",
   "execution_count": 68
  },
  {
   "cell_type": "code",
   "outputs": [
    {
     "name": "stdout",
     "output_type": "stream",
     "text": [
      "ML valid solutions:  75\n",
      "TABU valid solutions:  83\n",
      "ML average movements reached:  0.7315744276447256\n",
      "TABU average movements reached:  0.7492172379286461\n",
      "500\n",
      "500\n"
     ]
    }
   ],
   "source": [
    "# calculate the amouunt of valid solutions\n",
    "print('ML valid solutions: ', df_ml['valid_solution-ML'].sum())\n",
    "print('TABU valid solutions: ', df_tabu['valid_solution-TABU'].sum())\n",
    "\n",
    "# calculate the average delay\n",
    "df_results = pd.DataFrame()\n",
    "df_results['avg_movements_reached-ML'] = df_ml['movements_reached-ML']/df_ml['number_of_movements']\n",
    "df_results['avg_movements_reached-TABU'] = df_tabu['movements_reached-TABU']/df_tabu['number_of_movements']\n",
    "average_ML = df_results['avg_movements_reached-ML'].sum() / len(df_results)\n",
    "average_TABU = df_results['avg_movements_reached-TABU'].sum() / len(df_results)\n",
    "print('ML average movements reached: ', average_ML)\n",
    "print('TABU average movements reached: ', average_TABU)\n",
    "\n",
    "print(len(df_ml))\n",
    "print(len(df_tabu))\n"
   ],
   "metadata": {
    "collapsed": false,
    "ExecuteTime": {
     "end_time": "2024-01-07T05:03:23.115463700Z",
     "start_time": "2024-01-07T05:03:23.097455700Z"
    }
   },
   "id": "9ada2d2eccd150db",
   "execution_count": 70
  },
  {
   "cell_type": "code",
   "outputs": [
    {
     "name": "stdout",
     "output_type": "stream",
     "text": [
      "0      0\n",
      "1      0\n",
      "2      0\n",
      "3      0\n",
      "4      0\n",
      "      ..\n",
      "495    0\n",
      "496    0\n",
      "497    0\n",
      "498    0\n",
      "499    0\n",
      "Name: valid_solution-ML, Length: 500, dtype: int64\n",
      "ML valid solutions:  51\n",
      "TABU valid solutions:  51\n",
      "ML average delay:  0:33\n",
      "TABU average delay:  0:34\n",
      "ML average median delay:  0:23\n",
      "TABU average median delay:  0:26\n",
      "ML average obj val:  54.934640522876485\n",
      "TABU average obj val:  53.55392156862828\n",
      "ML standard deviation:  0:17\n",
      "TABU standard deviation:  0:19\n"
     ]
    }
   ],
   "source": [
    "# add the solved column from ml to tabu\n",
    "df_tabu['valid_solution-ML'] = df_ml['valid_solution-ML']\n",
    "print(df_tabu['valid_solution-ML'])\n",
    "df_ml['valid_solution-TABU'] = df_tabu['valid_solution-TABU']\n",
    "\n",
    "# calculate the average on the solved instances\n",
    "df_ml_solved = df_ml[df_ml['valid_solution-ML'] == 1]\n",
    "df_tabu_solved = df_tabu[df_tabu['valid_solution-TABU'] == 1]\n",
    "\n",
    "# now only keep if the instance is solved in both ML and TABU\n",
    "df_ml_solved = df_ml_solved[df_ml_solved['valid_solution-TABU'] == 1]\n",
    "df_tabu_solved = df_tabu_solved[df_tabu_solved['valid_solution-ML'] == 1]\n",
    "\n",
    "# calculate the amount of valid solutions\n",
    "print('ML valid solutions: ', df_ml_solved['valid_solution-ML'].sum())\n",
    "print('TABU valid solutions: ', df_tabu_solved['valid_solution-TABU'].sum())\n",
    "\n",
    "# calculate the average wait time\n",
    "avg_delay_ML = df_ml_solved['average_delay-ML'].sum() / len(df_ml_solved)\n",
    "avg_delay_TABU = df_tabu_solved['average_delay-TABU'].sum() / len(df_tabu_solved)\n",
    "print('ML average delay: ', decimal_to_time(avg_delay_ML))\n",
    "print('TABU average delay: ', decimal_to_time(avg_delay_TABU))\n",
    "\n",
    "# calculate the average median delay for ML and TABU\n",
    "avg_median_ML = df_ml_solved['median_delay-ML'].sum() / len(df_ml_solved)\n",
    "avg_median_TABU = df_tabu_solved['median_delay-TABU'].sum() / len(df_tabu_solved)\n",
    "print('ML average median delay: ', decimal_to_time(avg_median_ML))\n",
    "print('TABU average median delay: ', decimal_to_time(avg_median_TABU))\n",
    "\n",
    "# calculate the average obj val for ML and TABU\n",
    "avg_obj_ML = df_ml_solved['obj_val-ML'].sum() / len(df_ml_solved)\n",
    "avg_obj_TABU = df_tabu_solved['obj_val-TABU'].sum() / len(df_tabu_solved)\n",
    "print('ML average obj val: ', avg_obj_ML)\n",
    "print('TABU average obj val: ', avg_obj_TABU)\n",
    "\n",
    "# calcute the standard deviation for ML and TABU on the average delay\n",
    "std_ML = df_ml_solved['average_delay-ML'].std()\n",
    "std_TABU = df_tabu_solved['average_delay-TABU'].std()\n",
    "print('ML standard deviation: ', decimal_to_time(std_ML))\n",
    "print('TABU standard deviation: ', decimal_to_time(std_TABU))\n"
   ],
   "metadata": {
    "collapsed": false,
    "ExecuteTime": {
     "end_time": "2024-01-07T05:03:37.760728200Z",
     "start_time": "2024-01-07T05:03:37.740858Z"
    }
   },
   "id": "5ffec1484313757a",
   "execution_count": 71
  }
 ],
 "metadata": {
  "kernelspec": {
   "display_name": "Python 3",
   "language": "python",
   "name": "python3"
  },
  "language_info": {
   "codemirror_mode": {
    "name": "ipython",
    "version": 2
   },
   "file_extension": ".py",
   "mimetype": "text/x-python",
   "name": "python",
   "nbconvert_exporter": "python",
   "pygments_lexer": "ipython2",
   "version": "2.7.6"
  }
 },
 "nbformat": 4,
 "nbformat_minor": 5
}
