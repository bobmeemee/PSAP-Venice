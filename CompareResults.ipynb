{
 "cells": [
  {
   "cell_type": "code",
   "outputs": [],
   "source": [
    "import pandas as pd\n",
    "from Problem import decimal_to_time\n",
    "import numpy as np\n",
    "import matplotlib.pyplot as plt\n",
    "import seaborn as sns"
   ],
   "metadata": {
    "collapsed": false,
    "ExecuteTime": {
     "end_time": "2024-01-06T00:46:24.541651200Z",
     "start_time": "2024-01-06T00:46:24.532676100Z"
    }
   },
   "id": "1b774f1140762b6b",
   "execution_count": 16
  },
  {
   "cell_type": "code",
   "outputs": [
    {
     "name": "stdout",
     "output_type": "stream",
     "text": [
      "   instance  movements_reached-ML  median_delay-ML  average_delay-ML  \\\n",
      "0       152                    21         0.583333          0.587302   \n",
      "1       152                    21         0.333333          0.472222   \n",
      "2       152                    21         0.833333          0.904762   \n",
      "3       152                    21         0.333333          0.587302   \n",
      "4       152                    21         0.500000          0.761905   \n",
      "\n",
      "   obj_val-ML  t0-ML  alpha-ML  predicted_delay-ML  valid_solution-ML  \\\n",
      "0   61.666667     40  0.644952            1.013979                  1   \n",
      "1   49.583333     40  0.647285            1.014239                  1   \n",
      "2   95.000000     40  0.640977            1.013793                  1   \n",
      "3   61.666667     40  0.639848            1.013961                  1   \n",
      "4   80.000000     42  0.641123            1.014338                  1   \n",
      "\n",
      "   number_of_movements  \n",
      "0                   21  \n",
      "1                   21  \n",
      "2                   21  \n",
      "3                   21  \n",
      "4                   21  \n"
     ]
    }
   ],
   "source": [
    "# load in ML data\n",
    "df_ml = pd.read_excel('results/SA/ML-Results/out_151-200ex10.xlsx')\n",
    "df_ml = df_ml[['instance', 'number_of_movements_reached', 'median_delay', 'average_delay','obj_val', 't0', 'alpha', 'predicted_delay', 'valid_solution']]\n",
    "df_ml = df_ml.rename(columns={'number_of_movements_reached': 'movements_reached-ML', 'median_delay': 'median_delay-ML', 'average_delay': 'average_delay-ML', 'obj_val': 'obj_val-ML', 't0': 't0-ML', 'alpha': 'alpha-ML', 'valid_solution': 'valid_solution-ML', 'predicted_delay': 'predicted_delay-ML'})\n",
    "\n",
    "# load in random data\n",
    "df_sa = pd.read_excel('results/SA/100ex20-SA200/output_100e_200-101to200.xlsx')\n",
    "\n",
    "df_sa = df_sa[['instance', 'obj_val', 'alpha', 't0', 'median delay', 'average delay', 'number of movements', 'valid_solution']]\n",
    "df_sa = df_sa.rename(columns={'median delay': 'median_delay-SA', 'average delay': 'average_delay-SA', 'number of movements': 'movements_reached-SA', 'obj_val': 'obj_val-SA', 't0': 't0-SA', 'alpha': 'alpha-SA', 'valid_solution': 'valid_solution-SA'})\n",
    "\n",
    "\n",
    "# load in the instance data\n",
    "df_instances = pd.read_excel('results/instanceData_200.xlsx')\n",
    "df_instances = df_instances[['instance', 'number_of_movements']] \n",
    "# only keep the instace 151-200\n",
    "df_instances = df_instances.sort_values(by=['instance'])\n",
    "df_instances = df_instances[151:200]\n",
    "\n",
    "# merge the instances with the SA&ML data\n",
    "df_ml = pd.merge(df_ml, df_instances, on='instance')\n",
    "df_sa = pd.merge(df_sa, df_instances, on='instance')\n",
    "\n",
    "print(df_ml.head())"
   ],
   "metadata": {
    "collapsed": false,
    "ExecuteTime": {
     "end_time": "2024-01-06T00:41:03.396127100Z",
     "start_time": "2024-01-06T00:41:02.838576300Z"
    }
   },
   "id": "671d4aed5a1499f8",
   "execution_count": 9
  },
  {
   "cell_type": "code",
   "outputs": [
    {
     "name": "stdout",
     "output_type": "stream",
     "text": [
      "average movements reached SA:  0.9578789404355907\n",
      "average movements reached ML:  0.9682941075827286\n"
     ]
    }
   ],
   "source": [
    "# calculate the average movement reached for SA and ML\n",
    "df_results = pd.DataFrame()\n",
    "df_results['avg_movements_reached-ML'] = df_ml['movements_reached-ML']/df_ml['number_of_movements']\n",
    "df_results['avg_movements_reached-SA'] = df_sa['movements_reached-SA']/df_sa['number_of_movements']\n",
    "average_SA = df_results['avg_movements_reached-SA'].sum() / len(df_results)\n",
    "average_ML = df_results['avg_movements_reached-ML'].sum() / len(df_results)\n",
    "print(\"average movements reached SA: \", average_SA)\n",
    "print(\"average movements reached ML: \", average_ML)"
   ],
   "metadata": {
    "collapsed": false,
    "ExecuteTime": {
     "end_time": "2024-01-06T00:44:34.931231900Z",
     "start_time": "2024-01-06T00:44:34.919245500Z"
    }
   },
   "id": "14f404f09b37a909",
   "execution_count": 13
  },
  {
   "cell_type": "code",
   "outputs": [
    {
     "name": "stdout",
     "output_type": "stream",
     "text": [
      "average delay SA:  0:48\n",
      "average delay ML:  0:43\n",
      "average of median delay SA:  0:39\n",
      "average median delay ML:  0:35\n"
     ]
    }
   ],
   "source": [
    "# calculate the average delay for SA and ML\n",
    "avg_delay_SA = df_sa['average_delay-SA'].sum() / len(df_sa)\n",
    "avg_delay_ML = df_ml['average_delay-ML'].sum() / len(df_ml)\n",
    "print(\"average delay SA: \", decimal_to_time(avg_delay_SA))\n",
    "print(\"average delay ML: \", decimal_to_time(avg_delay_ML))\n",
    "\n",
    "# calculate average median delay for SA and ML\n",
    "median_delay_SA = df_sa['median_delay-SA'].sum() / len(df_sa)\n",
    "median_delay_ML = df_ml['median_delay-ML'].sum() / len(df_ml)\n",
    "print(\"average of median delay SA: \", decimal_to_time(median_delay_SA))\n",
    "print(\"average median delay ML: \", decimal_to_time(median_delay_ML))\n"
   ],
   "metadata": {
    "collapsed": false,
    "ExecuteTime": {
     "end_time": "2024-01-06T00:47:58.080491Z",
     "start_time": "2024-01-06T00:47:58.055866700Z"
    }
   },
   "id": "d7590d07220bfd1c",
   "execution_count": 18
  },
  {
   "cell_type": "code",
   "outputs": [],
   "source": [
    "# only keep one solution per instance\n",
    "df = df.drop_duplicates(subset=['instance'])\n",
    "df_ml = df_ml.drop_duplicates(subset=['instance'])"
   ],
   "metadata": {
    "collapsed": false,
    "ExecuteTime": {
     "end_time": "2024-01-03T15:46:17.825986600Z",
     "start_time": "2024-01-03T15:46:17.795059500Z"
    }
   },
   "id": "a545153b87479e4f",
   "execution_count": 55
  },
  {
   "cell_type": "code",
   "outputs": [
    {
     "name": "stdout",
     "output_type": "stream",
     "text": [
      "0      1\n",
      "10     1\n",
      "20     1\n",
      "30     1\n",
      "40     1\n",
      "      ..\n",
      "950    1\n",
      "960    0\n",
      "970    1\n",
      "980    1\n",
      "990    1\n",
      "Name: valid_solution-SA, Length: 100, dtype: int64\n",
      "0     1\n",
      "1     1\n",
      "2     1\n",
      "3     1\n",
      "4     0\n",
      "     ..\n",
      "95    1\n",
      "96    1\n",
      "97    1\n",
      "98    0\n",
      "99    1\n",
      "Name: valid_solution-ML, Length: 100, dtype: int64\n",
      "3.222789115646255\n"
     ]
    },
    {
     "ename": "KeyError",
     "evalue": "'movements_reached-diff-solved'",
     "output_type": "error",
     "traceback": [
      "\u001B[1;31m---------------------------------------------------------------------------\u001B[0m",
      "\u001B[1;31mKeyError\u001B[0m                                  Traceback (most recent call last)",
      "File \u001B[1;32m~\\anaconda3\\envs\\torch\\lib\\site-packages\\pandas\\core\\indexes\\base.py:3791\u001B[0m, in \u001B[0;36mIndex.get_loc\u001B[1;34m(self, key)\u001B[0m\n\u001B[0;32m   3790\u001B[0m \u001B[38;5;28;01mtry\u001B[39;00m:\n\u001B[1;32m-> 3791\u001B[0m     \u001B[38;5;28;01mreturn\u001B[39;00m \u001B[38;5;28;43mself\u001B[39;49m\u001B[38;5;241;43m.\u001B[39;49m\u001B[43m_engine\u001B[49m\u001B[38;5;241;43m.\u001B[39;49m\u001B[43mget_loc\u001B[49m\u001B[43m(\u001B[49m\u001B[43mcasted_key\u001B[49m\u001B[43m)\u001B[49m\n\u001B[0;32m   3792\u001B[0m \u001B[38;5;28;01mexcept\u001B[39;00m \u001B[38;5;167;01mKeyError\u001B[39;00m \u001B[38;5;28;01mas\u001B[39;00m err:\n",
      "File \u001B[1;32mindex.pyx:152\u001B[0m, in \u001B[0;36mpandas._libs.index.IndexEngine.get_loc\u001B[1;34m()\u001B[0m\n",
      "File \u001B[1;32mindex.pyx:181\u001B[0m, in \u001B[0;36mpandas._libs.index.IndexEngine.get_loc\u001B[1;34m()\u001B[0m\n",
      "File \u001B[1;32mpandas\\_libs\\hashtable_class_helper.pxi:7080\u001B[0m, in \u001B[0;36mpandas._libs.hashtable.PyObjectHashTable.get_item\u001B[1;34m()\u001B[0m\n",
      "File \u001B[1;32mpandas\\_libs\\hashtable_class_helper.pxi:7088\u001B[0m, in \u001B[0;36mpandas._libs.hashtable.PyObjectHashTable.get_item\u001B[1;34m()\u001B[0m\n",
      "\u001B[1;31mKeyError\u001B[0m: 'movements_reached-diff-solved'",
      "\nThe above exception was the direct cause of the following exception:\n",
      "\u001B[1;31mKeyError\u001B[0m                                  Traceback (most recent call last)",
      "Cell \u001B[1;32mIn[59], line 22\u001B[0m\n\u001B[0;32m     16\u001B[0m \u001B[38;5;66;03m# calculate the average of all differences for solved instances\u001B[39;00m\n\u001B[0;32m     17\u001B[0m \u001B[38;5;28mprint\u001B[39m(objvalsum\u001B[38;5;241m/\u001B[39mlenobjval)\n\u001B[1;32m---> 22\u001B[0m \u001B[38;5;28mprint\u001B[39m(\u001B[43mdf\u001B[49m\u001B[43m[\u001B[49m\u001B[38;5;124;43m'\u001B[39;49m\u001B[38;5;124;43mmovements_reached-diff-solved\u001B[39;49m\u001B[38;5;124;43m'\u001B[39;49m\u001B[43m]\u001B[49m\u001B[38;5;241m.\u001B[39mmean())\n\u001B[0;32m     24\u001B[0m \u001B[38;5;66;03m# calculate the average of all differences\u001B[39;00m\n\u001B[0;32m     25\u001B[0m \u001B[38;5;28mprint\u001B[39m(df[\u001B[38;5;124m'\u001B[39m\u001B[38;5;124mmovements_reached-diff\u001B[39m\u001B[38;5;124m'\u001B[39m]\u001B[38;5;241m.\u001B[39mmean())\n",
      "File \u001B[1;32m~\\anaconda3\\envs\\torch\\lib\\site-packages\\pandas\\core\\frame.py:3893\u001B[0m, in \u001B[0;36mDataFrame.__getitem__\u001B[1;34m(self, key)\u001B[0m\n\u001B[0;32m   3891\u001B[0m \u001B[38;5;28;01mif\u001B[39;00m \u001B[38;5;28mself\u001B[39m\u001B[38;5;241m.\u001B[39mcolumns\u001B[38;5;241m.\u001B[39mnlevels \u001B[38;5;241m>\u001B[39m \u001B[38;5;241m1\u001B[39m:\n\u001B[0;32m   3892\u001B[0m     \u001B[38;5;28;01mreturn\u001B[39;00m \u001B[38;5;28mself\u001B[39m\u001B[38;5;241m.\u001B[39m_getitem_multilevel(key)\n\u001B[1;32m-> 3893\u001B[0m indexer \u001B[38;5;241m=\u001B[39m \u001B[38;5;28;43mself\u001B[39;49m\u001B[38;5;241;43m.\u001B[39;49m\u001B[43mcolumns\u001B[49m\u001B[38;5;241;43m.\u001B[39;49m\u001B[43mget_loc\u001B[49m\u001B[43m(\u001B[49m\u001B[43mkey\u001B[49m\u001B[43m)\u001B[49m\n\u001B[0;32m   3894\u001B[0m \u001B[38;5;28;01mif\u001B[39;00m is_integer(indexer):\n\u001B[0;32m   3895\u001B[0m     indexer \u001B[38;5;241m=\u001B[39m [indexer]\n",
      "File \u001B[1;32m~\\anaconda3\\envs\\torch\\lib\\site-packages\\pandas\\core\\indexes\\base.py:3798\u001B[0m, in \u001B[0;36mIndex.get_loc\u001B[1;34m(self, key)\u001B[0m\n\u001B[0;32m   3793\u001B[0m     \u001B[38;5;28;01mif\u001B[39;00m \u001B[38;5;28misinstance\u001B[39m(casted_key, \u001B[38;5;28mslice\u001B[39m) \u001B[38;5;129;01mor\u001B[39;00m (\n\u001B[0;32m   3794\u001B[0m         \u001B[38;5;28misinstance\u001B[39m(casted_key, abc\u001B[38;5;241m.\u001B[39mIterable)\n\u001B[0;32m   3795\u001B[0m         \u001B[38;5;129;01mand\u001B[39;00m \u001B[38;5;28many\u001B[39m(\u001B[38;5;28misinstance\u001B[39m(x, \u001B[38;5;28mslice\u001B[39m) \u001B[38;5;28;01mfor\u001B[39;00m x \u001B[38;5;129;01min\u001B[39;00m casted_key)\n\u001B[0;32m   3796\u001B[0m     ):\n\u001B[0;32m   3797\u001B[0m         \u001B[38;5;28;01mraise\u001B[39;00m InvalidIndexError(key)\n\u001B[1;32m-> 3798\u001B[0m     \u001B[38;5;28;01mraise\u001B[39;00m \u001B[38;5;167;01mKeyError\u001B[39;00m(key) \u001B[38;5;28;01mfrom\u001B[39;00m \u001B[38;5;21;01merr\u001B[39;00m\n\u001B[0;32m   3799\u001B[0m \u001B[38;5;28;01mexcept\u001B[39;00m \u001B[38;5;167;01mTypeError\u001B[39;00m:\n\u001B[0;32m   3800\u001B[0m     \u001B[38;5;66;03m# If we have a listlike key, _check_indexing_error will raise\u001B[39;00m\n\u001B[0;32m   3801\u001B[0m     \u001B[38;5;66;03m#  InvalidIndexError. Otherwise we fall through and re-raise\u001B[39;00m\n\u001B[0;32m   3802\u001B[0m     \u001B[38;5;66;03m#  the TypeError.\u001B[39;00m\n\u001B[0;32m   3803\u001B[0m     \u001B[38;5;28mself\u001B[39m\u001B[38;5;241m.\u001B[39m_check_indexing_error(key)\n",
      "\u001B[1;31mKeyError\u001B[0m: 'movements_reached-diff-solved'"
     ]
    }
   ],
   "source": [
    "# calculate the difference between the ML and SA results\n",
    "df['movements_reached-diff'] = df['movements_reached-SA'] - df_ml['movements_reached-ML']\n",
    "\n",
    "# calculate the difference between the ML and SA results for the solved instances\n",
    "objvalsum = 0\n",
    "lenobjval = 0\n",
    "print(df['valid_solution-SA'])\n",
    "print(df_ml['valid_solution-ML'])\n",
    "for i in range(len(df)):\n",
    "\n",
    "    if df['valid_solution-SA'][i*10] == 1 and df_ml['valid_solution-ML'][i] == 1:\n",
    "        # add the objval to the sum on the ith row\n",
    "        objvalsum += df['obj_val-SA'][i*10] - df_ml['obj_val-ML'][i]\n",
    "        lenobjval += 1\n",
    "\n",
    "# calculate the average of all differences for solved instances\n",
    "print(objvalsum/lenobjval)\n",
    "\n",
    "\n",
    "        \n",
    "\n",
    "print(df['movements_reached-diff-solved'].mean())\n",
    "\n",
    "# calculate the average of all differences\n",
    "print(df['movements_reached-diff'].mean())\n",
    "\n"
   ],
   "metadata": {
    "collapsed": false,
    "ExecuteTime": {
     "end_time": "2024-01-03T15:47:25.721353800Z",
     "start_time": "2024-01-03T15:47:25.644083200Z"
    }
   },
   "id": "6c1e7da0dd155d6b",
   "execution_count": 59
  }
 ],
 "metadata": {
  "kernelspec": {
   "display_name": "Python 3",
   "language": "python",
   "name": "python3"
  },
  "language_info": {
   "codemirror_mode": {
    "name": "ipython",
    "version": 2
   },
   "file_extension": ".py",
   "mimetype": "text/x-python",
   "name": "python",
   "nbconvert_exporter": "python",
   "pygments_lexer": "ipython2",
   "version": "2.7.6"
  }
 },
 "nbformat": 4,
 "nbformat_minor": 5
}
