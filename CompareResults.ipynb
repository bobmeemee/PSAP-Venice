{
 "cells": [
  {
   "cell_type": "code",
   "outputs": [],
   "source": [
    "import pandas as pd\n",
    "import numpy as np\n",
    "import matplotlib.pyplot as plt\n",
    "import seaborn as sns"
   ],
   "metadata": {
    "collapsed": false,
    "ExecuteTime": {
     "end_time": "2024-01-03T00:39:08.739894300Z",
     "start_time": "2024-01-03T00:39:08.701666700Z"
    }
   },
   "id": "1b774f1140762b6b",
   "execution_count": 25
  },
  {
   "cell_type": "code",
   "outputs": [
    {
     "name": "stdout",
     "output_type": "stream",
     "text": [
      "Index(['instance', 'number_of_movements_reached', 'median_delay',\n",
      "       'average_delay', 'epochs', 'obj_val', 'neighborhood_size', 't0',\n",
      "       'alpha', 'neighbor_deviation_scale', 'affected_movements',\n",
      "       'time_interval', 'vessel_time_window', 'valid_solution',\n",
      "       'predicted_delay'],\n",
      "      dtype='object')\n"
     ]
    }
   ],
   "source": [
    "# load in the random data\n",
    "df = pd.read_excel('results/SA/output_100e.xlsx')\n",
    "df = df.rename(columns={'number of movements': 'movements reached'})\n",
    "\n",
    "# only keep instance number, objective value, alpha, t0, median and average time\n",
    "df = df[['instance', 'obj_val', 'alpha', 't0', 'median delay', 'average delay', 'movements reached', 'valid_solution']]\n",
    "df = df.rename(columns={'median delay': 'median_delay-SA', 'average delay': 'average_delay-SA', 'movements reached': 'movements_reached-SA', 'obj_val': 'obj_val-SA', 't0': 't0-SA', 'alpha': 'alpha-SA', 'valid_solution': 'valid_solution-SA'})\n",
    "\n",
    "# load in the ML data\n",
    "df_ml = pd.read_excel('results/SA/PSAP_SA-ML-TEST.xlsx')\n",
    "print(df_ml.columns)\n",
    "df_ml = df_ml[['instance', 'number_of_movements_reached', 'median_delay', 'average_delay','obj_val', 't0', 'alpha', 'valid_solution', 'predicted_delay', 'valid_solution']]\n",
    "\n",
    "df_ml = df_ml.rename(columns={'number_of_movements_reached': 'movements_reached-ML', 'median_delay': 'median_delay-ML', 'average_delay': 'average_delay-ML', 'obj_val': 'obj_val-ML', 't0': 't0-ML', 'alpha': 'alpha-ML', 'valid_solution': 'valid_solution-ML', 'predicted_delay': 'predicted_delay-ML', 'valid solution': 'valid_solution-ML'})\n",
    "\n"
   ],
   "metadata": {
    "collapsed": false,
    "ExecuteTime": {
     "end_time": "2024-01-03T00:39:08.938451600Z",
     "start_time": "2024-01-03T00:39:08.725178400Z"
    }
   },
   "id": "671d4aed5a1499f8",
   "execution_count": 26
  },
  {
   "cell_type": "code",
   "outputs": [],
   "source": [
    "# only keep one solution per instance\n",
    "df = df.drop_duplicates(subset=['instance'])\n",
    "df_ml = df_ml.drop_duplicates(subset=['instance'])\n",
    "\n",
    "# TODO: comparison in regards to movements reached screws up the average and median delay\n"
   ],
   "metadata": {
    "collapsed": false,
    "ExecuteTime": {
     "end_time": "2024-01-03T00:39:08.965517800Z",
     "start_time": "2024-01-03T00:39:08.943258600Z"
    }
   },
   "id": "a545153b87479e4f",
   "execution_count": 27
  },
  {
   "cell_type": "code",
   "outputs": [
    {
     "name": "stdout",
     "output_type": "stream",
     "text": [
      "-0.8\n"
     ]
    }
   ],
   "source": [
    "# calculate the difference between the ML and SA results\n",
    "df['movements_reached-diff'] = df['movements_reached-SA'] - df_ml['movements_reached-ML']\n",
    "\n",
    "# calculate the average of all differences\n",
    "print(df['movements_reached-diff'].mean())\n",
    "\n"
   ],
   "metadata": {
    "collapsed": false,
    "ExecuteTime": {
     "end_time": "2024-01-03T00:41:40.349258500Z",
     "start_time": "2024-01-03T00:41:40.336929700Z"
    }
   },
   "id": "6c1e7da0dd155d6b",
   "execution_count": 29
  }
 ],
 "metadata": {
  "kernelspec": {
   "display_name": "Python 3",
   "language": "python",
   "name": "python3"
  },
  "language_info": {
   "codemirror_mode": {
    "name": "ipython",
    "version": 2
   },
   "file_extension": ".py",
   "mimetype": "text/x-python",
   "name": "python",
   "nbconvert_exporter": "python",
   "pygments_lexer": "ipython2",
   "version": "2.7.6"
  }
 },
 "nbformat": 4,
 "nbformat_minor": 5
}
